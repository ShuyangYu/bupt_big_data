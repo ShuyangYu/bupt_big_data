{
 "cells": [
  {
   "cell_type": "code",
   "execution_count": 3,
   "metadata": {},
   "outputs": [],
   "source": [
    "import pandas as pd\n",
    "import numpy as np\n",
    "import seaborn as csns\n",
    "import matplotlib.pyplot as plt\n",
    "from matplotlib import gridspec\n",
    "import gc\n",
    "\n",
    "pd.set_option('max_colwidth',200)"
   ]
  },
  {
   "cell_type": "code",
   "execution_count": 1,
   "metadata": {},
   "outputs": [],
   "source": [
    "headers = ['id', 'day', 'time', 'remainder', 'type']\n",
    "headers_by_student_info = ['id', 'sex', 'grade', 'school', 'province']"
   ]
  },
  {
   "cell_type": "code",
   "execution_count": 4,
   "metadata": {},
   "outputs": [],
   "source": [
    "by_student_consume_record_data = pd.read_csv('by/by_student_consume_record.csv', sep='\\t', names=headers)\n",
    "by_student_info_data = pd.read_csv('by/by_student_info.csv', sep='\\t', names=headers_by_student_info)\n",
    "# bs_student_consume_record_data = pd.read_csv('nd/bs_student_consume_record.csv', sep='\\t', names=headers)"
   ]
  },
  {
   "cell_type": "code",
   "execution_count": 5,
   "metadata": {},
   "outputs": [],
   "source": [
    "consume_student_info_data = pd.merge(by_student_consume_record_data,by_student_info_data, on='id')"
   ]
  },
  {
   "cell_type": "code",
   "execution_count": 4,
   "metadata": {
    "scrolled": true
   },
   "outputs": [
    {
     "data": {
      "text/html": [
       "<div>\n",
       "<style scoped>\n",
       "    .dataframe tbody tr th:only-of-type {\n",
       "        vertical-align: middle;\n",
       "    }\n",
       "\n",
       "    .dataframe tbody tr th {\n",
       "        vertical-align: top;\n",
       "    }\n",
       "\n",
       "    .dataframe thead th {\n",
       "        text-align: right;\n",
       "    }\n",
       "</style>\n",
       "<table border=\"1\" class=\"dataframe\">\n",
       "  <thead>\n",
       "    <tr style=\"text-align: right;\">\n",
       "      <th></th>\n",
       "      <th>id</th>\n",
       "      <th>day</th>\n",
       "      <th>time</th>\n",
       "      <th>remainder</th>\n",
       "      <th>type</th>\n",
       "    </tr>\n",
       "  </thead>\n",
       "  <tbody>\n",
       "    <tr>\n",
       "      <th>0</th>\n",
       "      <td>7e397ee2361de4efe633aa82fe39ff5a</td>\n",
       "      <td>2016-12-03</td>\n",
       "      <td>22:46:35</td>\n",
       "      <td>0.2</td>\n",
       "      <td>淋浴支出</td>\n",
       "    </tr>\n",
       "    <tr>\n",
       "      <th>1</th>\n",
       "      <td>b081044412df9301e140bbfe6fad9d03</td>\n",
       "      <td>2016-12-03</td>\n",
       "      <td>22:45:56</td>\n",
       "      <td>0.2</td>\n",
       "      <td>淋浴支出</td>\n",
       "    </tr>\n",
       "    <tr>\n",
       "      <th>2</th>\n",
       "      <td>e5c70071b95e97b4e9c459de254c5e7f</td>\n",
       "      <td>2016-12-03</td>\n",
       "      <td>22:46:11</td>\n",
       "      <td>0.2</td>\n",
       "      <td>淋浴支出</td>\n",
       "    </tr>\n",
       "    <tr>\n",
       "      <th>3</th>\n",
       "      <td>2aee7945b140bb6c9112168b4e5e4d3c</td>\n",
       "      <td>2016-12-03</td>\n",
       "      <td>22:46:10</td>\n",
       "      <td>0.2</td>\n",
       "      <td>淋浴支出</td>\n",
       "    </tr>\n",
       "    <tr>\n",
       "      <th>4</th>\n",
       "      <td>b88a1a759e46d7372b9e78c286bd9a4c</td>\n",
       "      <td>2016-12-03</td>\n",
       "      <td>22:45:07</td>\n",
       "      <td>0.2</td>\n",
       "      <td>淋浴支出</td>\n",
       "    </tr>\n",
       "  </tbody>\n",
       "</table>\n",
       "</div>"
      ],
      "text/plain": [
       "                                 id         day      time  remainder  type\n",
       "0  7e397ee2361de4efe633aa82fe39ff5a  2016-12-03  22:46:35        0.2  淋浴支出\n",
       "1  b081044412df9301e140bbfe6fad9d03  2016-12-03  22:45:56        0.2  淋浴支出\n",
       "2  e5c70071b95e97b4e9c459de254c5e7f  2016-12-03  22:46:11        0.2  淋浴支出\n",
       "3  2aee7945b140bb6c9112168b4e5e4d3c  2016-12-03  22:46:10        0.2  淋浴支出\n",
       "4  b88a1a759e46d7372b9e78c286bd9a4c  2016-12-03  22:45:07        0.2  淋浴支出"
      ]
     },
     "execution_count": 4,
     "metadata": {},
     "output_type": "execute_result"
    }
   ],
   "source": [
    "by_student_consume_record_data.head()"
   ]
  },
  {
   "cell_type": "code",
   "execution_count": 24,
   "metadata": {},
   "outputs": [
    {
     "data": {
      "text/plain": [
       "(23755731, 5)"
      ]
     },
     "execution_count": 24,
     "metadata": {},
     "output_type": "execute_result"
    }
   ],
   "source": [
    "by_student_consume_record_data.shape"
   ]
  },
  {
   "cell_type": "code",
   "execution_count": 25,
   "metadata": {},
   "outputs": [
    {
     "data": {
      "text/plain": [
       "(15759,)"
      ]
     },
     "execution_count": 25,
     "metadata": {},
     "output_type": "execute_result"
    }
   ],
   "source": [
    "by_student_consume_record_data['id'].unique().shape"
   ]
  },
  {
   "cell_type": "markdown",
   "metadata": {},
   "source": [
    "## 处理缺失值"
   ]
  },
  {
   "cell_type": "code",
   "execution_count": 7,
   "metadata": {},
   "outputs": [
    {
     "data": {
      "text/plain": [
       "id                0\n",
       "day             294\n",
       "time           3087\n",
       "remainder       294\n",
       "type            294\n",
       "sex           92875\n",
       "grade         93207\n",
       "school            0\n",
       "province     795223\n",
       "dtype: int64"
      ]
     },
     "execution_count": 7,
     "metadata": {},
     "output_type": "execute_result"
    }
   ],
   "source": [
    "consume_student_info_data.isnull().sum()"
   ]
  },
  {
   "cell_type": "code",
   "execution_count": 21,
   "metadata": {},
   "outputs": [],
   "source": [
    "by_student_consume_record_data = by_student_consume_record_data.dropna(axis = 0)"
   ]
  },
  {
   "cell_type": "code",
   "execution_count": 22,
   "metadata": {},
   "outputs": [
    {
     "data": {
      "text/plain": [
       "id           0\n",
       "day          0\n",
       "time         0\n",
       "remainder    0\n",
       "type         0\n",
       "dtype: int64"
      ]
     },
     "execution_count": 22,
     "metadata": {},
     "output_type": "execute_result"
    }
   ],
   "source": [
    "by_student_consume_record_data.isnull().sum()"
   ]
  },
  {
   "cell_type": "code",
   "execution_count": 102,
   "metadata": {},
   "outputs": [],
   "source": [
    "by_student_consume_record_data['datetime'] = pd.to_datetime(by_student_consume_record_data['day'] + ' ' + by_student_consume_record_data['time'])"
   ]
  },
  {
   "cell_type": "markdown",
   "metadata": {},
   "source": [
    "## Someone"
   ]
  },
  {
   "cell_type": "code",
   "execution_count": 28,
   "metadata": {},
   "outputs": [],
   "source": [
    "someone_data = by_student_consume_record_data[by_student_consume_record_data['id'] == '7e397ee2361de4efe633aa82fe39ff5a']"
   ]
  },
  {
   "cell_type": "code",
   "execution_count": 29,
   "metadata": {},
   "outputs": [
    {
     "data": {
      "text/plain": [
       "(2371, 5)"
      ]
     },
     "execution_count": 29,
     "metadata": {},
     "output_type": "execute_result"
    }
   ],
   "source": [
    "someone_data.shape"
   ]
  },
  {
   "cell_type": "markdown",
   "metadata": {},
   "source": [
    "### 各项支出总和及占比"
   ]
  },
  {
   "cell_type": "code",
   "execution_count": 44,
   "metadata": {},
   "outputs": [],
   "source": [
    "temp = someone_data.day.str.split(pat='-', expand=True)"
   ]
  },
  {
   "cell_type": "code",
   "execution_count": 45,
   "metadata": {},
   "outputs": [
    {
     "name": "stderr",
     "output_type": "stream",
     "text": [
      "C:\\software\\anaconda\\lib\\site-packages\\ipykernel_launcher.py:1: SettingWithCopyWarning: \n",
      "A value is trying to be set on a copy of a slice from a DataFrame.\n",
      "Try using .loc[row_indexer,col_indexer] = value instead\n",
      "\n",
      "See the caveats in the documentation: http://pandas.pydata.org/pandas-docs/stable/indexing.html#indexing-view-versus-copy\n",
      "  \"\"\"Entry point for launching an IPython kernel.\n"
     ]
    }
   ],
   "source": [
    "someone_data['year_month'] = temp[0] + '-' + temp[1]"
   ]
  },
  {
   "cell_type": "code",
   "execution_count": 240,
   "metadata": {},
   "outputs": [
    {
     "data": {
      "text/html": [
       "<div>\n",
       "<style scoped>\n",
       "    .dataframe tbody tr th:only-of-type {\n",
       "        vertical-align: middle;\n",
       "    }\n",
       "\n",
       "    .dataframe tbody tr th {\n",
       "        vertical-align: top;\n",
       "    }\n",
       "\n",
       "    .dataframe thead th {\n",
       "        text-align: right;\n",
       "    }\n",
       "</style>\n",
       "<table border=\"1\" class=\"dataframe\">\n",
       "  <thead>\n",
       "    <tr style=\"text-align: right;\">\n",
       "      <th></th>\n",
       "      <th>id</th>\n",
       "      <th>day</th>\n",
       "      <th>time</th>\n",
       "      <th>remainder</th>\n",
       "      <th>type</th>\n",
       "      <th>year_month</th>\n",
       "    </tr>\n",
       "  </thead>\n",
       "  <tbody>\n",
       "    <tr>\n",
       "      <th>0</th>\n",
       "      <td>7e397ee2361de4efe633aa82fe39ff5a</td>\n",
       "      <td>2016-12-03</td>\n",
       "      <td>22:46:35</td>\n",
       "      <td>0.2</td>\n",
       "      <td>淋浴支出</td>\n",
       "      <td>2016-12</td>\n",
       "    </tr>\n",
       "    <tr>\n",
       "      <th>170</th>\n",
       "      <td>7e397ee2361de4efe633aa82fe39ff5a</td>\n",
       "      <td>2016-12-03</td>\n",
       "      <td>22:48:35</td>\n",
       "      <td>0.2</td>\n",
       "      <td>淋浴支出</td>\n",
       "      <td>2016-12</td>\n",
       "    </tr>\n",
       "    <tr>\n",
       "      <th>448</th>\n",
       "      <td>7e397ee2361de4efe633aa82fe39ff5a</td>\n",
       "      <td>2016-12-03</td>\n",
       "      <td>22:52:35</td>\n",
       "      <td>0.2</td>\n",
       "      <td>淋浴支出</td>\n",
       "      <td>2016-12</td>\n",
       "    </tr>\n",
       "    <tr>\n",
       "      <th>1289</th>\n",
       "      <td>7e397ee2361de4efe633aa82fe39ff5a</td>\n",
       "      <td>2016-12-07</td>\n",
       "      <td>20:38:41</td>\n",
       "      <td>0.2</td>\n",
       "      <td>淋浴支出</td>\n",
       "      <td>2016-12</td>\n",
       "    </tr>\n",
       "    <tr>\n",
       "      <th>16573</th>\n",
       "      <td>7e397ee2361de4efe633aa82fe39ff5a</td>\n",
       "      <td>2016-12-06</td>\n",
       "      <td>12:00:56</td>\n",
       "      <td>30.0</td>\n",
       "      <td>商场购物</td>\n",
       "      <td>2016-12</td>\n",
       "    </tr>\n",
       "    <tr>\n",
       "      <th>21709</th>\n",
       "      <td>7e397ee2361de4efe633aa82fe39ff5a</td>\n",
       "      <td>2016-12-05</td>\n",
       "      <td>22:40:17</td>\n",
       "      <td>0.2</td>\n",
       "      <td>淋浴支出</td>\n",
       "      <td>2016-12</td>\n",
       "    </tr>\n",
       "    <tr>\n",
       "      <th>36496</th>\n",
       "      <td>7e397ee2361de4efe633aa82fe39ff5a</td>\n",
       "      <td>2016-12-06</td>\n",
       "      <td>11:55:36</td>\n",
       "      <td>20.0</td>\n",
       "      <td>餐费支出</td>\n",
       "      <td>2016-12</td>\n",
       "    </tr>\n",
       "    <tr>\n",
       "      <th>39659</th>\n",
       "      <td>7e397ee2361de4efe633aa82fe39ff5a</td>\n",
       "      <td>2016-12-05</td>\n",
       "      <td>22:38:17</td>\n",
       "      <td>0.2</td>\n",
       "      <td>淋浴支出</td>\n",
       "      <td>2016-12</td>\n",
       "    </tr>\n",
       "    <tr>\n",
       "      <th>41653</th>\n",
       "      <td>7e397ee2361de4efe633aa82fe39ff5a</td>\n",
       "      <td>2016-12-05</td>\n",
       "      <td>22:42:17</td>\n",
       "      <td>0.2</td>\n",
       "      <td>淋浴支出</td>\n",
       "      <td>2016-12</td>\n",
       "    </tr>\n",
       "    <tr>\n",
       "      <th>41739</th>\n",
       "      <td>7e397ee2361de4efe633aa82fe39ff5a</td>\n",
       "      <td>2016-12-05</td>\n",
       "      <td>22:32:17</td>\n",
       "      <td>0.2</td>\n",
       "      <td>淋浴支出</td>\n",
       "      <td>2016-12</td>\n",
       "    </tr>\n",
       "  </tbody>\n",
       "</table>\n",
       "</div>"
      ],
      "text/plain": [
       "                                     id         day      time  remainder  \\\n",
       "0      7e397ee2361de4efe633aa82fe39ff5a  2016-12-03  22:46:35        0.2   \n",
       "170    7e397ee2361de4efe633aa82fe39ff5a  2016-12-03  22:48:35        0.2   \n",
       "448    7e397ee2361de4efe633aa82fe39ff5a  2016-12-03  22:52:35        0.2   \n",
       "1289   7e397ee2361de4efe633aa82fe39ff5a  2016-12-07  20:38:41        0.2   \n",
       "16573  7e397ee2361de4efe633aa82fe39ff5a  2016-12-06  12:00:56       30.0   \n",
       "21709  7e397ee2361de4efe633aa82fe39ff5a  2016-12-05  22:40:17        0.2   \n",
       "36496  7e397ee2361de4efe633aa82fe39ff5a  2016-12-06  11:55:36       20.0   \n",
       "39659  7e397ee2361de4efe633aa82fe39ff5a  2016-12-05  22:38:17        0.2   \n",
       "41653  7e397ee2361de4efe633aa82fe39ff5a  2016-12-05  22:42:17        0.2   \n",
       "41739  7e397ee2361de4efe633aa82fe39ff5a  2016-12-05  22:32:17        0.2   \n",
       "\n",
       "       type year_month  \n",
       "0      淋浴支出    2016-12  \n",
       "170    淋浴支出    2016-12  \n",
       "448    淋浴支出    2016-12  \n",
       "1289   淋浴支出    2016-12  \n",
       "16573  商场购物    2016-12  \n",
       "21709  淋浴支出    2016-12  \n",
       "36496  餐费支出    2016-12  \n",
       "39659  淋浴支出    2016-12  \n",
       "41653  淋浴支出    2016-12  \n",
       "41739  淋浴支出    2016-12  "
      ]
     },
     "execution_count": 240,
     "metadata": {},
     "output_type": "execute_result"
    }
   ],
   "source": [
    "someone_data.head(10)"
   ]
  },
  {
   "cell_type": "code",
   "execution_count": 69,
   "metadata": {},
   "outputs": [],
   "source": [
    "groupby_year_month_type = someone_data.groupby(['year_month', 'type'])['remainder'].sum().reset_index().sort_values(by='year_month')"
   ]
  },
  {
   "cell_type": "code",
   "execution_count": 78,
   "metadata": {},
   "outputs": [],
   "source": [
    "groupby_year_month = someone_data.groupby(['year_month'])['remainder'].sum().reset_index().sort_values(by='year_month')"
   ]
  },
  {
   "cell_type": "code",
   "execution_count": 70,
   "metadata": {},
   "outputs": [
    {
     "data": {
      "text/html": [
       "<div>\n",
       "<style scoped>\n",
       "    .dataframe tbody tr th:only-of-type {\n",
       "        vertical-align: middle;\n",
       "    }\n",
       "\n",
       "    .dataframe tbody tr th {\n",
       "        vertical-align: top;\n",
       "    }\n",
       "\n",
       "    .dataframe thead th {\n",
       "        text-align: right;\n",
       "    }\n",
       "</style>\n",
       "<table border=\"1\" class=\"dataframe\">\n",
       "  <thead>\n",
       "    <tr style=\"text-align: right;\">\n",
       "      <th></th>\n",
       "      <th>year_month</th>\n",
       "      <th>type</th>\n",
       "      <th>remainder</th>\n",
       "    </tr>\n",
       "  </thead>\n",
       "  <tbody>\n",
       "    <tr>\n",
       "      <th>0</th>\n",
       "      <td>2015-01</td>\n",
       "      <td>淋浴支出</td>\n",
       "      <td>1.4</td>\n",
       "    </tr>\n",
       "    <tr>\n",
       "      <th>1</th>\n",
       "      <td>2015-09</td>\n",
       "      <td>网费充值</td>\n",
       "      <td>30.0</td>\n",
       "    </tr>\n",
       "    <tr>\n",
       "      <th>2</th>\n",
       "      <td>2015-09</td>\n",
       "      <td>餐费支出</td>\n",
       "      <td>20.0</td>\n",
       "    </tr>\n",
       "    <tr>\n",
       "      <th>3</th>\n",
       "      <td>2015-10</td>\n",
       "      <td>商场购物</td>\n",
       "      <td>82.7</td>\n",
       "    </tr>\n",
       "    <tr>\n",
       "      <th>4</th>\n",
       "      <td>2015-10</td>\n",
       "      <td>网费充值</td>\n",
       "      <td>40.0</td>\n",
       "    </tr>\n",
       "  </tbody>\n",
       "</table>\n",
       "</div>"
      ],
      "text/plain": [
       "  year_month  type  remainder\n",
       "0    2015-01  淋浴支出        1.4\n",
       "1    2015-09  网费充值       30.0\n",
       "2    2015-09  餐费支出       20.0\n",
       "3    2015-10  商场购物       82.7\n",
       "4    2015-10  网费充值       40.0"
      ]
     },
     "execution_count": 70,
     "metadata": {},
     "output_type": "execute_result"
    }
   ],
   "source": [
    "groupby_year_month_type.head()"
   ]
  },
  {
   "cell_type": "code",
   "execution_count": 74,
   "metadata": {},
   "outputs": [
    {
     "data": {
      "text/plain": [
       "type\n",
       "商场购物       2329.1\n",
       "学生证补办费用      30.0\n",
       "淋浴支出        402.0\n",
       "网费充值        895.0\n",
       "餐费支出       1833.4\n",
       "Name: remainder, dtype: float64"
      ]
     },
     "execution_count": 74,
     "metadata": {},
     "output_type": "execute_result"
    }
   ],
   "source": [
    "groupby_year_month_type.groupby('type')['remainder'].sum()"
   ]
  },
  {
   "cell_type": "code",
   "execution_count": 87,
   "metadata": {},
   "outputs": [
    {
     "data": {
      "text/plain": [
       "<matplotlib.axes._subplots.AxesSubplot at 0x1a4829b5080>"
      ]
     },
     "execution_count": 87,
     "metadata": {},
     "output_type": "execute_result"
    },
    {
     "data": {
      "image/png": "[encoded data removed]",
      "text/plain": [
       "<matplotlib.figure.Figure at 0x1a48291a2b0>"
      ]
     },
     "metadata": {},
     "output_type": "display_data"
    }
   ],
   "source": [
    "# 分类绘图someone\n",
    "fig, ax = plt.subplots(figsize = (25,5)) \n",
    "sns.barplot(x = \"year_month\", y  = \"remainder\", hue='type', data = groupby_year_month_type, ax = ax)"
   ]
  },
  {
   "cell_type": "code",
   "execution_count": 89,
   "metadata": {},
   "outputs": [
    {
     "data": {
      "text/plain": [
       "<matplotlib.axes._subplots.AxesSubplot at 0x1a483dd2eb8>"
      ]
     },
     "execution_count": 89,
     "metadata": {},
     "output_type": "execute_result"
    },
    {
     "data": {
      "image/png": "[encoded data removed]",
      "text/plain": [
       "<matplotlib.figure.Figure at 0x1a484138470>"
      ]
     },
     "metadata": {},
     "output_type": "display_data"
    }
   ],
   "source": [
    "# 分类绘图someone\n",
    "fig, ax = plt.subplots(figsize = (25,5)) \n",
    "sns.barplot(x = \"year_month\", y  = \"remainder\", data = groupby_year_month, ax = ax)"
   ]
  },
  {
   "cell_type": "markdown",
   "metadata": {},
   "source": [
    "### 洗澡时间"
   ]
  },
  {
   "cell_type": "code",
   "execution_count": 158,
   "metadata": {},
   "outputs": [],
   "source": [
    "someone_shower_data = someone_data[someone_data['type'] == '淋浴支出']"
   ]
  },
  {
   "cell_type": "code",
   "execution_count": 159,
   "metadata": {},
   "outputs": [
    {
     "name": "stderr",
     "output_type": "stream",
     "text": [
      "C:\\software\\anaconda\\lib\\site-packages\\ipykernel_launcher.py:1: SettingWithCopyWarning: \n",
      "A value is trying to be set on a copy of a slice from a DataFrame.\n",
      "Try using .loc[row_indexer,col_indexer] = value instead\n",
      "\n",
      "See the caveats in the documentation: http://pandas.pydata.org/pandas-docs/stable/indexing.html#indexing-view-versus-copy\n",
      "  \"\"\"Entry point for launching an IPython kernel.\n"
     ]
    }
   ],
   "source": [
    "someone_shower_data['datetime'] = pd.to_datetime(someone_shower_data['day'] + ' ' + someone_shower_data['time'])"
   ]
  },
  {
   "cell_type": "code",
   "execution_count": 160,
   "metadata": {},
   "outputs": [],
   "source": [
    "someone_shower_data = someone_shower_data.sort_values(by='datetime').reset_index()"
   ]
  },
  {
   "cell_type": "code",
   "execution_count": 241,
   "metadata": {},
   "outputs": [
    {
     "data": {
      "text/html": [
       "<div>\n",
       "<style scoped>\n",
       "    .dataframe tbody tr th:only-of-type {\n",
       "        vertical-align: middle;\n",
       "    }\n",
       "\n",
       "    .dataframe tbody tr th {\n",
       "        vertical-align: top;\n",
       "    }\n",
       "\n",
       "    .dataframe thead th {\n",
       "        text-align: right;\n",
       "    }\n",
       "</style>\n",
       "<table border=\"1\" class=\"dataframe\">\n",
       "  <thead>\n",
       "    <tr style=\"text-align: right;\">\n",
       "      <th></th>\n",
       "      <th>index</th>\n",
       "      <th>id</th>\n",
       "      <th>day</th>\n",
       "      <th>time</th>\n",
       "      <th>remainder</th>\n",
       "      <th>type</th>\n",
       "      <th>year_month</th>\n",
       "      <th>datetime</th>\n",
       "    </tr>\n",
       "  </thead>\n",
       "  <tbody>\n",
       "    <tr>\n",
       "      <th>0</th>\n",
       "      <td>10262144</td>\n",
       "      <td>7e397ee2361de4efe633aa82fe39ff5a</td>\n",
       "      <td>2015-01-01</td>\n",
       "      <td>22:40:45</td>\n",
       "      <td>0.2</td>\n",
       "      <td>淋浴支出</td>\n",
       "      <td>2015-01</td>\n",
       "      <td>2015-01-01 22:40:45</td>\n",
       "    </tr>\n",
       "    <tr>\n",
       "      <th>1</th>\n",
       "      <td>10261415</td>\n",
       "      <td>7e397ee2361de4efe633aa82fe39ff5a</td>\n",
       "      <td>2015-01-01</td>\n",
       "      <td>22:42:44</td>\n",
       "      <td>0.2</td>\n",
       "      <td>淋浴支出</td>\n",
       "      <td>2015-01</td>\n",
       "      <td>2015-01-01 22:42:44</td>\n",
       "    </tr>\n",
       "    <tr>\n",
       "      <th>2</th>\n",
       "      <td>10260578</td>\n",
       "      <td>7e397ee2361de4efe633aa82fe39ff5a</td>\n",
       "      <td>2015-01-01</td>\n",
       "      <td>22:44:44</td>\n",
       "      <td>0.2</td>\n",
       "      <td>淋浴支出</td>\n",
       "      <td>2015-01</td>\n",
       "      <td>2015-01-01 22:44:44</td>\n",
       "    </tr>\n",
       "    <tr>\n",
       "      <th>3</th>\n",
       "      <td>10255831</td>\n",
       "      <td>7e397ee2361de4efe633aa82fe39ff5a</td>\n",
       "      <td>2015-01-01</td>\n",
       "      <td>22:46:44</td>\n",
       "      <td>0.2</td>\n",
       "      <td>淋浴支出</td>\n",
       "      <td>2015-01</td>\n",
       "      <td>2015-01-01 22:46:44</td>\n",
       "    </tr>\n",
       "    <tr>\n",
       "      <th>4</th>\n",
       "      <td>10262993</td>\n",
       "      <td>7e397ee2361de4efe633aa82fe39ff5a</td>\n",
       "      <td>2015-01-01</td>\n",
       "      <td>22:48:44</td>\n",
       "      <td>0.2</td>\n",
       "      <td>淋浴支出</td>\n",
       "      <td>2015-01</td>\n",
       "      <td>2015-01-01 22:48:44</td>\n",
       "    </tr>\n",
       "  </tbody>\n",
       "</table>\n",
       "</div>"
      ],
      "text/plain": [
       "      index                                id         day      time  \\\n",
       "0  10262144  7e397ee2361de4efe633aa82fe39ff5a  2015-01-01  22:40:45   \n",
       "1  10261415  7e397ee2361de4efe633aa82fe39ff5a  2015-01-01  22:42:44   \n",
       "2  10260578  7e397ee2361de4efe633aa82fe39ff5a  2015-01-01  22:44:44   \n",
       "3  10255831  7e397ee2361de4efe633aa82fe39ff5a  2015-01-01  22:46:44   \n",
       "4  10262993  7e397ee2361de4efe633aa82fe39ff5a  2015-01-01  22:48:44   \n",
       "\n",
       "   remainder  type year_month            datetime  \n",
       "0        0.2  淋浴支出    2015-01 2015-01-01 22:40:45  \n",
       "1        0.2  淋浴支出    2015-01 2015-01-01 22:42:44  \n",
       "2        0.2  淋浴支出    2015-01 2015-01-01 22:44:44  \n",
       "3        0.2  淋浴支出    2015-01 2015-01-01 22:46:44  \n",
       "4        0.2  淋浴支出    2015-01 2015-01-01 22:48:44  "
      ]
     },
     "execution_count": 241,
     "metadata": {},
     "output_type": "execute_result"
    }
   ],
   "source": [
    "someone_shower_data.head()"
   ]
  },
  {
   "cell_type": "code",
   "execution_count": 162,
   "metadata": {},
   "outputs": [
    {
     "data": {
      "text/plain": [
       "2010"
      ]
     },
     "execution_count": 162,
     "metadata": {},
     "output_type": "execute_result"
    }
   ],
   "source": [
    "someone_shower_data.shape[0]"
   ]
  },
  {
   "cell_type": "code",
   "execution_count": 163,
   "metadata": {},
   "outputs": [],
   "source": [
    "del_rows = []\n",
    "for i in range(someone_shower_data.shape[0]-1):\n",
    "    if((someone_shower_data.iloc[i + 1]['datetime'] - someone_shower_data.iloc[i]['datetime']) <  pd.to_timedelta('0 days 2:00:00')):\n",
    "        del_rows.append(i+1)"
   ]
  },
  {
   "cell_type": "code",
   "execution_count": 164,
   "metadata": {},
   "outputs": [],
   "source": [
    "new = someone_shower_data.drop(del_rows)"
   ]
  },
  {
   "cell_type": "code",
   "execution_count": 165,
   "metadata": {},
   "outputs": [
    {
     "data": {
      "text/html": [
       "<div>\n",
       "<style scoped>\n",
       "    .dataframe tbody tr th:only-of-type {\n",
       "        vertical-align: middle;\n",
       "    }\n",
       "\n",
       "    .dataframe tbody tr th {\n",
       "        vertical-align: top;\n",
       "    }\n",
       "\n",
       "    .dataframe thead th {\n",
       "        text-align: right;\n",
       "    }\n",
       "</style>\n",
       "<table border=\"1\" class=\"dataframe\">\n",
       "  <thead>\n",
       "    <tr style=\"text-align: right;\">\n",
       "      <th></th>\n",
       "      <th>index</th>\n",
       "      <th>id</th>\n",
       "      <th>day</th>\n",
       "      <th>time</th>\n",
       "      <th>remainder</th>\n",
       "      <th>type</th>\n",
       "      <th>year_month</th>\n",
       "      <th>datetime</th>\n",
       "    </tr>\n",
       "  </thead>\n",
       "  <tbody>\n",
       "    <tr>\n",
       "      <th>0</th>\n",
       "      <td>10262144</td>\n",
       "      <td>7e397ee2361de4efe633aa82fe39ff5a</td>\n",
       "      <td>2015-01-01</td>\n",
       "      <td>22:40:45</td>\n",
       "      <td>0.2</td>\n",
       "      <td>淋浴支出</td>\n",
       "      <td>2015-01</td>\n",
       "      <td>2015-01-01 22:40:45</td>\n",
       "    </tr>\n",
       "    <tr>\n",
       "      <th>7</th>\n",
       "      <td>9014003</td>\n",
       "      <td>7e397ee2361de4efe633aa82fe39ff5a</td>\n",
       "      <td>2015-11-06</td>\n",
       "      <td>23:03:35</td>\n",
       "      <td>0.2</td>\n",
       "      <td>淋浴支出</td>\n",
       "      <td>2015-11</td>\n",
       "      <td>2015-11-06 23:03:35</td>\n",
       "    </tr>\n",
       "    <tr>\n",
       "      <th>8</th>\n",
       "      <td>9023075</td>\n",
       "      <td>7e397ee2361de4efe633aa82fe39ff5a</td>\n",
       "      <td>2015-11-08</td>\n",
       "      <td>19:15:40</td>\n",
       "      <td>0.2</td>\n",
       "      <td>淋浴支出</td>\n",
       "      <td>2015-11</td>\n",
       "      <td>2015-11-08 19:15:40</td>\n",
       "    </tr>\n",
       "    <tr>\n",
       "      <th>16</th>\n",
       "      <td>9151349</td>\n",
       "      <td>7e397ee2361de4efe633aa82fe39ff5a</td>\n",
       "      <td>2015-11-10</td>\n",
       "      <td>20:28:34</td>\n",
       "      <td>0.2</td>\n",
       "      <td>淋浴支出</td>\n",
       "      <td>2015-11</td>\n",
       "      <td>2015-11-10 20:28:34</td>\n",
       "    </tr>\n",
       "    <tr>\n",
       "      <th>27</th>\n",
       "      <td>9246067</td>\n",
       "      <td>7e397ee2361de4efe633aa82fe39ff5a</td>\n",
       "      <td>2015-11-12</td>\n",
       "      <td>21:11:20</td>\n",
       "      <td>0.2</td>\n",
       "      <td>淋浴支出</td>\n",
       "      <td>2015-11</td>\n",
       "      <td>2015-11-12 21:11:20</td>\n",
       "    </tr>\n",
       "  </tbody>\n",
       "</table>\n",
       "</div>"
      ],
      "text/plain": [
       "       index                                id         day      time  \\\n",
       "0   10262144  7e397ee2361de4efe633aa82fe39ff5a  2015-01-01  22:40:45   \n",
       "7    9014003  7e397ee2361de4efe633aa82fe39ff5a  2015-11-06  23:03:35   \n",
       "8    9023075  7e397ee2361de4efe633aa82fe39ff5a  2015-11-08  19:15:40   \n",
       "16   9151349  7e397ee2361de4efe633aa82fe39ff5a  2015-11-10  20:28:34   \n",
       "27   9246067  7e397ee2361de4efe633aa82fe39ff5a  2015-11-12  21:11:20   \n",
       "\n",
       "    remainder  type year_month            datetime  \n",
       "0         0.2  淋浴支出    2015-01 2015-01-01 22:40:45  \n",
       "7         0.2  淋浴支出    2015-11 2015-11-06 23:03:35  \n",
       "8         0.2  淋浴支出    2015-11 2015-11-08 19:15:40  \n",
       "16        0.2  淋浴支出    2015-11 2015-11-10 20:28:34  \n",
       "27        0.2  淋浴支出    2015-11 2015-11-12 21:11:20  "
      ]
     },
     "execution_count": 165,
     "metadata": {},
     "output_type": "execute_result"
    }
   ],
   "source": [
    "new.head()"
   ]
  },
  {
   "cell_type": "code",
   "execution_count": 174,
   "metadata": {},
   "outputs": [],
   "source": [
    "new['time_to_seconds'] = pd.to_timedelta(new['time']).dt.total_seconds()"
   ]
  },
  {
   "cell_type": "code",
   "execution_count": 212,
   "metadata": {},
   "outputs": [],
   "source": [
    "new['hour'] = new['datetime'].dt.hour"
   ]
  },
  {
   "cell_type": "code",
   "execution_count": 213,
   "metadata": {},
   "outputs": [],
   "source": [
    "new = new[new['hour'] > 11]\n",
    "new = new[new['hour'] < 23]"
   ]
  },
  {
   "cell_type": "code",
   "execution_count": 214,
   "metadata": {},
   "outputs": [
    {
     "data": {
      "image/png": "[encoded data removed]",
      "text/plain": [
       "<matplotlib.figure.Figure at 0x1a4860425f8>"
      ]
     },
     "metadata": {},
     "output_type": "display_data"
    }
   ],
   "source": [
    "fig, ax = plt.subplots(figsize = (25,5)) \n",
    "sns.pointplot(x=\"day\", y=\"time_to_seconds\", data=new,\n",
    "#               palette={\"male\": \"g\", \"female\": \"m\"},\n",
    "              markers=[\"^\", \"o\"], linestyles=[\"-\", \"--\"]);"
   ]
  },
  {
   "cell_type": "code",
   "execution_count": 238,
   "metadata": {},
   "outputs": [
    {
     "data": {
      "image/png": "[encoded data removed]",
      "text/plain": [
       "<matplotlib.figure.Figure at 0x1a4a32203c8>"
      ]
     },
     "metadata": {},
     "output_type": "display_data"
    }
   ],
   "source": [
    "sns.swarmplot(x='type', y='time_to_seconds', data=new);"
   ]
  },
  {
   "cell_type": "markdown",
   "metadata": {},
   "source": [
    "### 吃饭时间"
   ]
  },
  {
   "cell_type": "code",
   "execution_count": 242,
   "metadata": {},
   "outputs": [],
   "source": [
    "someone_chi_data = someone_data[someone_data['type'] == '餐费支出']"
   ]
  },
  {
   "cell_type": "code",
   "execution_count": 254,
   "metadata": {},
   "outputs": [
    {
     "name": "stderr",
     "output_type": "stream",
     "text": [
      "C:\\software\\anaconda\\lib\\site-packages\\ipykernel_launcher.py:1: SettingWithCopyWarning: \n",
      "A value is trying to be set on a copy of a slice from a DataFrame.\n",
      "Try using .loc[row_indexer,col_indexer] = value instead\n",
      "\n",
      "See the caveats in the documentation: http://pandas.pydata.org/pandas-docs/stable/indexing.html#indexing-view-versus-copy\n",
      "  \"\"\"Entry point for launching an IPython kernel.\n"
     ]
    }
   ],
   "source": [
    " someone_chi_data['total_seconds'] = pd.to_timedelta(someone_chi_data['time']).dt.total_seconds()"
   ]
  },
  {
   "cell_type": "code",
   "execution_count": 259,
   "metadata": {},
   "outputs": [
    {
     "name": "stderr",
     "output_type": "stream",
     "text": [
      "C:\\software\\anaconda\\lib\\site-packages\\ipykernel_launcher.py:1: SettingWithCopyWarning: \n",
      "A value is trying to be set on a copy of a slice from a DataFrame.\n",
      "Try using .loc[row_indexer,col_indexer] = value instead\n",
      "\n",
      "See the caveats in the documentation: http://pandas.pydata.org/pandas-docs/stable/indexing.html#indexing-view-versus-copy\n",
      "  \"\"\"Entry point for launching an IPython kernel.\n"
     ]
    }
   ],
   "source": [
    "someone_chi_data['hour'] = someone_chi_data['time'].str.split(pat=':',expand=True)[0]"
   ]
  },
  {
   "cell_type": "code",
   "execution_count": 260,
   "metadata": {},
   "outputs": [
    {
     "data": {
      "text/html": [
       "<div>\n",
       "<style scoped>\n",
       "    .dataframe tbody tr th:only-of-type {\n",
       "        vertical-align: middle;\n",
       "    }\n",
       "\n",
       "    .dataframe tbody tr th {\n",
       "        vertical-align: top;\n",
       "    }\n",
       "\n",
       "    .dataframe thead th {\n",
       "        text-align: right;\n",
       "    }\n",
       "</style>\n",
       "<table border=\"1\" class=\"dataframe\">\n",
       "  <thead>\n",
       "    <tr style=\"text-align: right;\">\n",
       "      <th></th>\n",
       "      <th>id</th>\n",
       "      <th>day</th>\n",
       "      <th>time</th>\n",
       "      <th>remainder</th>\n",
       "      <th>type</th>\n",
       "      <th>year_month</th>\n",
       "      <th>total_seconds</th>\n",
       "      <th>hour</th>\n",
       "    </tr>\n",
       "  </thead>\n",
       "  <tbody>\n",
       "    <tr>\n",
       "      <th>36496</th>\n",
       "      <td>7e397ee2361de4efe633aa82fe39ff5a</td>\n",
       "      <td>2016-12-06</td>\n",
       "      <td>11:55:36</td>\n",
       "      <td>20.0</td>\n",
       "      <td>餐费支出</td>\n",
       "      <td>2016-12</td>\n",
       "      <td>42936.0</td>\n",
       "      <td>11</td>\n",
       "    </tr>\n",
       "    <tr>\n",
       "      <th>126559</th>\n",
       "      <td>7e397ee2361de4efe633aa82fe39ff5a</td>\n",
       "      <td>2016-12-07</td>\n",
       "      <td>12:46:42</td>\n",
       "      <td>16.0</td>\n",
       "      <td>餐费支出</td>\n",
       "      <td>2016-12</td>\n",
       "      <td>46002.0</td>\n",
       "      <td>12</td>\n",
       "    </tr>\n",
       "    <tr>\n",
       "      <th>126670</th>\n",
       "      <td>7e397ee2361de4efe633aa82fe39ff5a</td>\n",
       "      <td>2016-12-07</td>\n",
       "      <td>12:48:04</td>\n",
       "      <td>6.0</td>\n",
       "      <td>餐费支出</td>\n",
       "      <td>2016-12</td>\n",
       "      <td>46084.0</td>\n",
       "      <td>12</td>\n",
       "    </tr>\n",
       "    <tr>\n",
       "      <th>557366</th>\n",
       "      <td>7e397ee2361de4efe633aa82fe39ff5a</td>\n",
       "      <td>2016-12-22</td>\n",
       "      <td>12:55:52</td>\n",
       "      <td>29.0</td>\n",
       "      <td>餐费支出</td>\n",
       "      <td>2016-12</td>\n",
       "      <td>46552.0</td>\n",
       "      <td>12</td>\n",
       "    </tr>\n",
       "    <tr>\n",
       "      <th>557661</th>\n",
       "      <td>7e397ee2361de4efe633aa82fe39ff5a</td>\n",
       "      <td>2016-12-22</td>\n",
       "      <td>12:55:48</td>\n",
       "      <td>6.0</td>\n",
       "      <td>餐费支出</td>\n",
       "      <td>2016-12</td>\n",
       "      <td>46548.0</td>\n",
       "      <td>12</td>\n",
       "    </tr>\n",
       "  </tbody>\n",
       "</table>\n",
       "</div>"
      ],
      "text/plain": [
       "                                      id         day      time  remainder  \\\n",
       "36496   7e397ee2361de4efe633aa82fe39ff5a  2016-12-06  11:55:36       20.0   \n",
       "126559  7e397ee2361de4efe633aa82fe39ff5a  2016-12-07  12:46:42       16.0   \n",
       "126670  7e397ee2361de4efe633aa82fe39ff5a  2016-12-07  12:48:04        6.0   \n",
       "557366  7e397ee2361de4efe633aa82fe39ff5a  2016-12-22  12:55:52       29.0   \n",
       "557661  7e397ee2361de4efe633aa82fe39ff5a  2016-12-22  12:55:48        6.0   \n",
       "\n",
       "        type year_month  total_seconds hour  \n",
       "36496   餐费支出    2016-12        42936.0   11  \n",
       "126559  餐费支出    2016-12        46002.0   12  \n",
       "126670  餐费支出    2016-12        46084.0   12  \n",
       "557366  餐费支出    2016-12        46552.0   12  \n",
       "557661  餐费支出    2016-12        46548.0   12  "
      ]
     },
     "execution_count": 260,
     "metadata": {},
     "output_type": "execute_result"
    }
   ],
   "source": [
    "someone_chi_data.head()"
   ]
  },
  {
   "cell_type": "code",
   "execution_count": 265,
   "metadata": {},
   "outputs": [
    {
     "name": "stderr",
     "output_type": "stream",
     "text": [
      "C:\\software\\anaconda\\lib\\site-packages\\ipykernel_launcher.py:1: SettingWithCopyWarning: \n",
      "A value is trying to be set on a copy of a slice from a DataFrame.\n",
      "Try using .loc[row_indexer,col_indexer] = value instead\n",
      "\n",
      "See the caveats in the documentation: http://pandas.pydata.org/pandas-docs/stable/indexing.html#indexing-view-versus-copy\n",
      "  \"\"\"Entry point for launching an IPython kernel.\n"
     ]
    }
   ],
   "source": [
    "someone_chi_data['hour'] = someone_chi_data['hour'].astype('int')"
   ]
  },
  {
   "cell_type": "code",
   "execution_count": 266,
   "metadata": {},
   "outputs": [
    {
     "data": {
      "text/plain": [
       "<matplotlib.axes._subplots.AxesSubplot at 0x1a4860bb6d8>"
      ]
     },
     "execution_count": 266,
     "metadata": {},
     "output_type": "execute_result"
    },
    {
     "data": {
      "image/png": "[encoded data removed]",
      "text/plain": [
       "<matplotlib.figure.Figure at 0x1a486169d30>"
      ]
     },
     "metadata": {},
     "output_type": "display_data"
    }
   ],
   "source": [
    "sns.distplot(someone_chi_data['hour'])"
   ]
  },
  {
   "cell_type": "markdown",
   "metadata": {},
   "source": [
    "## 整体"
   ]
  },
  {
   "cell_type": "code",
   "execution_count": 179,
   "metadata": {},
   "outputs": [],
   "source": [
    "by_student_consume_record_data_sort_by_id_datetime = by_student_consume_record_data.sort_values(by=['id', 'datetime'])\n",
    "by_student_consume_record_data_sort_by_id_datetime_shower = by_student_consume_record_data_sort_by_id_datetime[by_student_consume_record_data_sort_by_id_datetime['type'] == '淋浴支出'].reset_index()"
   ]
  },
  {
   "cell_type": "code",
   "execution_count": 180,
   "metadata": {},
   "outputs": [
    {
     "data": {
      "text/html": [
       "<div>\n",
       "<style scoped>\n",
       "    .dataframe tbody tr th:only-of-type {\n",
       "        vertical-align: middle;\n",
       "    }\n",
       "\n",
       "    .dataframe tbody tr th {\n",
       "        vertical-align: top;\n",
       "    }\n",
       "\n",
       "    .dataframe thead th {\n",
       "        text-align: right;\n",
       "    }\n",
       "</style>\n",
       "<table border=\"1\" class=\"dataframe\">\n",
       "  <thead>\n",
       "    <tr style=\"text-align: right;\">\n",
       "      <th></th>\n",
       "      <th>index</th>\n",
       "      <th>id</th>\n",
       "      <th>day</th>\n",
       "      <th>time</th>\n",
       "      <th>remainder</th>\n",
       "      <th>type</th>\n",
       "      <th>datetime</th>\n",
       "    </tr>\n",
       "  </thead>\n",
       "  <tbody>\n",
       "    <tr>\n",
       "      <th>0</th>\n",
       "      <td>20358358</td>\n",
       "      <td>000092f7ebf972fb64a91dc3b2a2aca1</td>\n",
       "      <td>2017-09-01</td>\n",
       "      <td>21:57:41</td>\n",
       "      <td>0.2</td>\n",
       "      <td>淋浴支出</td>\n",
       "      <td>2017-09-01 21:57:41</td>\n",
       "    </tr>\n",
       "    <tr>\n",
       "      <th>1</th>\n",
       "      <td>1477022</td>\n",
       "      <td>000092f7ebf972fb64a91dc3b2a2aca1</td>\n",
       "      <td>2017-09-01</td>\n",
       "      <td>21:59:50</td>\n",
       "      <td>0.2</td>\n",
       "      <td>淋浴支出</td>\n",
       "      <td>2017-09-01 21:59:50</td>\n",
       "    </tr>\n",
       "    <tr>\n",
       "      <th>2</th>\n",
       "      <td>1479259</td>\n",
       "      <td>000092f7ebf972fb64a91dc3b2a2aca1</td>\n",
       "      <td>2017-09-01</td>\n",
       "      <td>22:01:50</td>\n",
       "      <td>0.2</td>\n",
       "      <td>淋浴支出</td>\n",
       "      <td>2017-09-01 22:01:50</td>\n",
       "    </tr>\n",
       "    <tr>\n",
       "      <th>3</th>\n",
       "      <td>1485916</td>\n",
       "      <td>000092f7ebf972fb64a91dc3b2a2aca1</td>\n",
       "      <td>2017-09-01</td>\n",
       "      <td>22:06:29</td>\n",
       "      <td>0.2</td>\n",
       "      <td>淋浴支出</td>\n",
       "      <td>2017-09-01 22:06:29</td>\n",
       "    </tr>\n",
       "    <tr>\n",
       "      <th>4</th>\n",
       "      <td>1488112</td>\n",
       "      <td>000092f7ebf972fb64a91dc3b2a2aca1</td>\n",
       "      <td>2017-09-01</td>\n",
       "      <td>22:08:29</td>\n",
       "      <td>0.2</td>\n",
       "      <td>淋浴支出</td>\n",
       "      <td>2017-09-01 22:08:29</td>\n",
       "    </tr>\n",
       "  </tbody>\n",
       "</table>\n",
       "</div>"
      ],
      "text/plain": [
       "      index                                id         day      time  \\\n",
       "0  20358358  000092f7ebf972fb64a91dc3b2a2aca1  2017-09-01  21:57:41   \n",
       "1   1477022  000092f7ebf972fb64a91dc3b2a2aca1  2017-09-01  21:59:50   \n",
       "2   1479259  000092f7ebf972fb64a91dc3b2a2aca1  2017-09-01  22:01:50   \n",
       "3   1485916  000092f7ebf972fb64a91dc3b2a2aca1  2017-09-01  22:06:29   \n",
       "4   1488112  000092f7ebf972fb64a91dc3b2a2aca1  2017-09-01  22:08:29   \n",
       "\n",
       "   remainder  type            datetime  \n",
       "0        0.2  淋浴支出 2017-09-01 21:57:41  \n",
       "1        0.2  淋浴支出 2017-09-01 21:59:50  \n",
       "2        0.2  淋浴支出 2017-09-01 22:01:50  \n",
       "3        0.2  淋浴支出 2017-09-01 22:06:29  \n",
       "4        0.2  淋浴支出 2017-09-01 22:08:29  "
      ]
     },
     "execution_count": 180,
     "metadata": {},
     "output_type": "execute_result"
    }
   ],
   "source": [
    "by_student_consume_record_data_sort_by_id_datetime_shower.head()"
   ]
  },
  {
   "cell_type": "code",
   "execution_count": 181,
   "metadata": {},
   "outputs": [],
   "source": [
    "del_rows = []\n",
    "for i in range(by_student_consume_record_data_sort_by_id_datetime_shower.shape[0]-1):\n",
    "    if((by_student_consume_record_data_sort_by_id_datetime_shower.iloc[i + 1]['datetime'] - by_student_consume_record_data_sort_by_id_datetime_shower.iloc[i]['datetime']) <  pd.to_timedelta('0 days 2:00:00')):\n",
    "        del_rows.append(i+1)"
   ]
  },
  {
   "cell_type": "code",
   "execution_count": 182,
   "metadata": {},
   "outputs": [],
   "source": [
    "by_student_consume_record_data_sort_by_id_datetime_shower = by_student_consume_record_data_sort_by_id_datetime_shower.drop(del_rows)"
   ]
  },
  {
   "cell_type": "code",
   "execution_count": 184,
   "metadata": {},
   "outputs": [],
   "source": [
    "by_student_consume_record_data_sort_by_id_datetime_shower.to_csv('by_student_consume_record_data_sort_by_id_datetime_shower')"
   ]
  },
  {
   "cell_type": "code",
   "execution_count": 187,
   "metadata": {},
   "outputs": [],
   "source": [
    "by_student_consume_record_data_sort_by_id_datetime_shower['total_seconds'] =  pd.to_timedelta(by_student_consume_record_data_sort_by_id_datetime_shower['time']).dt.total_seconds()"
   ]
  },
  {
   "cell_type": "code",
   "execution_count": 190,
   "metadata": {},
   "outputs": [],
   "source": [
    "by_student_consume_record_data_sort_by_id_datetime_shower['weekday'] = by_student_consume_record_data_sort_by_id_datetime_shower['datetime'].dt.weekday"
   ]
  },
  {
   "cell_type": "code",
   "execution_count": 192,
   "metadata": {},
   "outputs": [],
   "source": [
    "by_student_consume_record_data_sort_by_id_datetime_shower['hour'] = by_student_consume_record_data_sort_by_id_datetime_shower['datetime'].dt.hour"
   ]
  },
  {
   "cell_type": "code",
   "execution_count": 195,
   "metadata": {},
   "outputs": [],
   "source": [
    "by_student_consume_record_data_sort_by_id_datetime_shower = by_student_consume_record_data_sort_by_id_datetime_shower[by_student_consume_record_data_sort_by_id_datetime_shower['hour'] > 11]\n",
    "by_student_consume_record_data_sort_by_id_datetime_shower = by_student_consume_record_data_sort_by_id_datetime_shower[by_student_consume_record_data_sort_by_id_datetime_shower['hour'] < 23]"
   ]
  },
  {
   "cell_type": "code",
   "execution_count": 215,
   "metadata": {},
   "outputs": [
    {
     "data": {
      "text/html": [
       "<div>\n",
       "<style scoped>\n",
       "    .dataframe tbody tr th:only-of-type {\n",
       "        vertical-align: middle;\n",
       "    }\n",
       "\n",
       "    .dataframe tbody tr th {\n",
       "        vertical-align: top;\n",
       "    }\n",
       "\n",
       "    .dataframe thead th {\n",
       "        text-align: right;\n",
       "    }\n",
       "</style>\n",
       "<table border=\"1\" class=\"dataframe\">\n",
       "  <thead>\n",
       "    <tr style=\"text-align: right;\">\n",
       "      <th></th>\n",
       "      <th>weekday</th>\n",
       "      <th>hour</th>\n",
       "      <th>index</th>\n",
       "      <th>id</th>\n",
       "      <th>day</th>\n",
       "      <th>time</th>\n",
       "      <th>remainder</th>\n",
       "      <th>type</th>\n",
       "      <th>datetime</th>\n",
       "      <th>total_seconds</th>\n",
       "    </tr>\n",
       "  </thead>\n",
       "  <tbody>\n",
       "    <tr>\n",
       "      <th>0</th>\n",
       "      <td>0</td>\n",
       "      <td>12</td>\n",
       "      <td>5579</td>\n",
       "      <td>5579</td>\n",
       "      <td>5579</td>\n",
       "      <td>5579</td>\n",
       "      <td>5579</td>\n",
       "      <td>5579</td>\n",
       "      <td>5579</td>\n",
       "      <td>5579</td>\n",
       "    </tr>\n",
       "    <tr>\n",
       "      <th>1</th>\n",
       "      <td>0</td>\n",
       "      <td>13</td>\n",
       "      <td>4097</td>\n",
       "      <td>4097</td>\n",
       "      <td>4097</td>\n",
       "      <td>4097</td>\n",
       "      <td>4097</td>\n",
       "      <td>4097</td>\n",
       "      <td>4097</td>\n",
       "      <td>4097</td>\n",
       "    </tr>\n",
       "    <tr>\n",
       "      <th>2</th>\n",
       "      <td>0</td>\n",
       "      <td>14</td>\n",
       "      <td>3919</td>\n",
       "      <td>3919</td>\n",
       "      <td>3919</td>\n",
       "      <td>3919</td>\n",
       "      <td>3919</td>\n",
       "      <td>3919</td>\n",
       "      <td>3919</td>\n",
       "      <td>3919</td>\n",
       "    </tr>\n",
       "    <tr>\n",
       "      <th>3</th>\n",
       "      <td>0</td>\n",
       "      <td>15</td>\n",
       "      <td>8284</td>\n",
       "      <td>8284</td>\n",
       "      <td>8284</td>\n",
       "      <td>8284</td>\n",
       "      <td>8284</td>\n",
       "      <td>8284</td>\n",
       "      <td>8284</td>\n",
       "      <td>8284</td>\n",
       "    </tr>\n",
       "    <tr>\n",
       "      <th>4</th>\n",
       "      <td>0</td>\n",
       "      <td>16</td>\n",
       "      <td>9745</td>\n",
       "      <td>9745</td>\n",
       "      <td>9745</td>\n",
       "      <td>9745</td>\n",
       "      <td>9745</td>\n",
       "      <td>9745</td>\n",
       "      <td>9745</td>\n",
       "      <td>9745</td>\n",
       "    </tr>\n",
       "  </tbody>\n",
       "</table>\n",
       "</div>"
      ],
      "text/plain": [
       "   weekday  hour  index    id   day  time  remainder  type  datetime  \\\n",
       "0        0    12   5579  5579  5579  5579       5579  5579      5579   \n",
       "1        0    13   4097  4097  4097  4097       4097  4097      4097   \n",
       "2        0    14   3919  3919  3919  3919       3919  3919      3919   \n",
       "3        0    15   8284  8284  8284  8284       8284  8284      8284   \n",
       "4        0    16   9745  9745  9745  9745       9745  9745      9745   \n",
       "\n",
       "   total_seconds  \n",
       "0           5579  \n",
       "1           4097  \n",
       "2           3919  \n",
       "3           8284  \n",
       "4           9745  "
      ]
     },
     "execution_count": 215,
     "metadata": {},
     "output_type": "execute_result"
    }
   ],
   "source": [
    "by_student_consume_record_data_sort_by_id_datetime_shower.groupby(['weekday', 'hour']).count().reset_index().head()"
   ]
  },
  {
   "cell_type": "code",
   "execution_count": 1,
   "metadata": {},
   "outputs": [
    {
     "ename": "NameError",
     "evalue": "name 'by_student_consume_record_data_sort_by_id_datetime_shower' is not defined",
     "output_type": "error",
     "traceback": [
      "\u001b[1;31m---------------------------------------------------------------------------\u001b[0m",
      "\u001b[1;31mNameError\u001b[0m                                 Traceback (most recent call last)",
      "\u001b[1;32m<ipython-input-1-aae205d52372>\u001b[0m in \u001b[0;36m<module>\u001b[1;34m()\u001b[0m\n\u001b[1;32m----> 1\u001b[1;33m \u001b[0mby_student_consume_record_data_sort_by_id_datetime_shower\u001b[0m\u001b[1;33m.\u001b[0m\u001b[0mhead\u001b[0m\u001b[1;33m(\u001b[0m\u001b[1;33m)\u001b[0m\u001b[1;33m\u001b[0m\u001b[0m\n\u001b[0m",
      "\u001b[1;31mNameError\u001b[0m: name 'by_student_consume_record_data_sort_by_id_datetime_shower' is not defined"
     ]
    }
   ],
   "source": [
    "by_student_consume_record_data_sort_by_id_datetime_shower.head()"
   ]
  },
  {
   "cell_type": "code",
   "execution_count": null,
   "metadata": {},
   "outputs": [],
   "source": [
    "# huatu"
   ]
  },
  {
   "cell_type": "code",
   "execution_count": null,
   "metadata": {},
   "outputs": [],
   "source": []
  }
 ],
 "metadata": {
  "kernelspec": {
   "display_name": "Python 3",
   "language": "python",
   "name": "python3"
  },
  "language_info": {
   "codemirror_mode": {
    "name": "ipython",
    "version": 3
   },
   "file_extension": ".py",
   "mimetype": "text/x-python",
   "name": "python",
   "nbconvert_exporter": "python",
   "pygments_lexer": "ipython3",
   "version": "3.6.4"
  }
 },
 "nbformat": 4,
 "nbformat_minor": 2
}
